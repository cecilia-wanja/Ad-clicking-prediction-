{
 "cells": [
  {
   "cell_type": "code",
   "execution_count": 1,
   "metadata": {},
   "outputs": [],
   "source": [
    "#Choosing the file we will work on.\n",
    "\n",
    "f = file.choose()"
   ]
  },
  {
   "cell_type": "code",
   "execution_count": 2,
   "metadata": {},
   "outputs": [
    {
     "data": {
      "text/html": [
       "<table>\n",
       "<thead><tr><th scope=col>Daily.Time.Spent.on.Site</th><th scope=col>Age</th><th scope=col>Area.Income</th><th scope=col>Daily.Internet.Usage</th><th scope=col>Ad.Topic.Line</th><th scope=col>City</th><th scope=col>Male</th><th scope=col>Country</th><th scope=col>Timestamp</th><th scope=col>Clicked.on.Ad</th></tr></thead>\n",
       "<tbody>\n",
       "\t<tr><td>68.95                                </td><td>35                                   </td><td>61833.90                             </td><td>256.09                               </td><td>Cloned 5thgeneration orchestration   </td><td>Wrightburgh                          </td><td>0                                    </td><td>Tunisia                              </td><td>2016-03-27 00:53:11                  </td><td>0                                    </td></tr>\n",
       "\t<tr><td>80.23                                </td><td>31                                   </td><td>68441.85                             </td><td>193.77                               </td><td>Monitored national standardization   </td><td>West Jodi                            </td><td>1                                    </td><td>Nauru                                </td><td>2016-04-04 01:39:02                  </td><td>0                                    </td></tr>\n",
       "\t<tr><td>69.47                                </td><td>26                                   </td><td>59785.94                             </td><td>236.50                               </td><td>Organic bottom-line service-desk     </td><td>Davidton                             </td><td>0                                    </td><td>San Marino                           </td><td>2016-03-13 20:35:42                  </td><td>0                                    </td></tr>\n",
       "\t<tr><td>74.15                                </td><td>29                                   </td><td>54806.18                             </td><td>245.89                               </td><td>Triple-buffered reciprocal time-frame</td><td>West Terrifurt                       </td><td>1                                    </td><td>Italy                                </td><td>2016-01-10 02:31:19                  </td><td>0                                    </td></tr>\n",
       "\t<tr><td>68.37                                </td><td>35                                   </td><td>73889.99                             </td><td>225.58                               </td><td>Robust logistical utilization        </td><td>South Manuel                         </td><td>0                                    </td><td>Iceland                              </td><td>2016-06-03 03:36:18                  </td><td>0                                    </td></tr>\n",
       "\t<tr><td>59.99                                </td><td>23                                   </td><td>59761.56                             </td><td>226.74                               </td><td>Sharable client-driven software      </td><td>Jamieberg                            </td><td>1                                    </td><td>Norway                               </td><td>2016-05-19 14:30:17                  </td><td>0                                    </td></tr>\n",
       "</tbody>\n",
       "</table>\n"
      ],
      "text/latex": [
       "\\begin{tabular}{r|llllllllll}\n",
       " Daily.Time.Spent.on.Site & Age & Area.Income & Daily.Internet.Usage & Ad.Topic.Line & City & Male & Country & Timestamp & Clicked.on.Ad\\\\\n",
       "\\hline\n",
       "\t 68.95                                 & 35                                    & 61833.90                              & 256.09                                & Cloned 5thgeneration orchestration    & Wrightburgh                           & 0                                     & Tunisia                               & 2016-03-27 00:53:11                   & 0                                    \\\\\n",
       "\t 80.23                                 & 31                                    & 68441.85                              & 193.77                                & Monitored national standardization    & West Jodi                             & 1                                     & Nauru                                 & 2016-04-04 01:39:02                   & 0                                    \\\\\n",
       "\t 69.47                                 & 26                                    & 59785.94                              & 236.50                                & Organic bottom-line service-desk      & Davidton                              & 0                                     & San Marino                            & 2016-03-13 20:35:42                   & 0                                    \\\\\n",
       "\t 74.15                                 & 29                                    & 54806.18                              & 245.89                                & Triple-buffered reciprocal time-frame & West Terrifurt                        & 1                                     & Italy                                 & 2016-01-10 02:31:19                   & 0                                    \\\\\n",
       "\t 68.37                                 & 35                                    & 73889.99                              & 225.58                                & Robust logistical utilization         & South Manuel                          & 0                                     & Iceland                               & 2016-06-03 03:36:18                   & 0                                    \\\\\n",
       "\t 59.99                                 & 23                                    & 59761.56                              & 226.74                                & Sharable client-driven software       & Jamieberg                             & 1                                     & Norway                                & 2016-05-19 14:30:17                   & 0                                    \\\\\n",
       "\\end{tabular}\n"
      ],
      "text/markdown": [
       "\n",
       "| Daily.Time.Spent.on.Site | Age | Area.Income | Daily.Internet.Usage | Ad.Topic.Line | City | Male | Country | Timestamp | Clicked.on.Ad |\n",
       "|---|---|---|---|---|---|---|---|---|---|\n",
       "| 68.95                                 | 35                                    | 61833.90                              | 256.09                                | Cloned 5thgeneration orchestration    | Wrightburgh                           | 0                                     | Tunisia                               | 2016-03-27 00:53:11                   | 0                                     |\n",
       "| 80.23                                 | 31                                    | 68441.85                              | 193.77                                | Monitored national standardization    | West Jodi                             | 1                                     | Nauru                                 | 2016-04-04 01:39:02                   | 0                                     |\n",
       "| 69.47                                 | 26                                    | 59785.94                              | 236.50                                | Organic bottom-line service-desk      | Davidton                              | 0                                     | San Marino                            | 2016-03-13 20:35:42                   | 0                                     |\n",
       "| 74.15                                 | 29                                    | 54806.18                              | 245.89                                | Triple-buffered reciprocal time-frame | West Terrifurt                        | 1                                     | Italy                                 | 2016-01-10 02:31:19                   | 0                                     |\n",
       "| 68.37                                 | 35                                    | 73889.99                              | 225.58                                | Robust logistical utilization         | South Manuel                          | 0                                     | Iceland                               | 2016-06-03 03:36:18                   | 0                                     |\n",
       "| 59.99                                 | 23                                    | 59761.56                              | 226.74                                | Sharable client-driven software       | Jamieberg                             | 1                                     | Norway                                | 2016-05-19 14:30:17                   | 0                                     |\n",
       "\n"
      ],
      "text/plain": [
       "  Daily.Time.Spent.on.Site Age Area.Income Daily.Internet.Usage\n",
       "1 68.95                    35  61833.90    256.09              \n",
       "2 80.23                    31  68441.85    193.77              \n",
       "3 69.47                    26  59785.94    236.50              \n",
       "4 74.15                    29  54806.18    245.89              \n",
       "5 68.37                    35  73889.99    225.58              \n",
       "6 59.99                    23  59761.56    226.74              \n",
       "  Ad.Topic.Line                         City           Male Country   \n",
       "1 Cloned 5thgeneration orchestration    Wrightburgh    0    Tunisia   \n",
       "2 Monitored national standardization    West Jodi      1    Nauru     \n",
       "3 Organic bottom-line service-desk      Davidton       0    San Marino\n",
       "4 Triple-buffered reciprocal time-frame West Terrifurt 1    Italy     \n",
       "5 Robust logistical utilization         South Manuel   0    Iceland   \n",
       "6 Sharable client-driven software       Jamieberg      1    Norway    \n",
       "  Timestamp           Clicked.on.Ad\n",
       "1 2016-03-27 00:53:11 0            \n",
       "2 2016-04-04 01:39:02 0            \n",
       "3 2016-03-13 20:35:42 0            \n",
       "4 2016-01-10 02:31:19 0            \n",
       "5 2016-06-03 03:36:18 0            \n",
       "6 2016-05-19 14:30:17 0            "
      ]
     },
     "metadata": {},
     "output_type": "display_data"
    }
   ],
   "source": [
    "# Calling and Previewing the dataset.\n",
    "\n",
    "data = read.csv(f)\n",
    "head(data)"
   ]
  },
  {
   "cell_type": "markdown",
   "metadata": {},
   "source": [
    "1. CLEANING THE DATA"
   ]
  },
  {
   "cell_type": "markdown",
   "metadata": {},
   "source": [
    "**Dealing with missing data.**"
   ]
  },
  {
   "cell_type": "code",
   "execution_count": 3,
   "metadata": {},
   "outputs": [
    {
     "data": {
      "text/html": [
       "<dl class=dl-horizontal>\n",
       "\t<dt>Daily.Time.Spent.on.Site</dt>\n",
       "\t\t<dd>0</dd>\n",
       "\t<dt>Age</dt>\n",
       "\t\t<dd>0</dd>\n",
       "\t<dt>Area.Income</dt>\n",
       "\t\t<dd>0</dd>\n",
       "\t<dt>Daily.Internet.Usage</dt>\n",
       "\t\t<dd>0</dd>\n",
       "\t<dt>Ad.Topic.Line</dt>\n",
       "\t\t<dd>0</dd>\n",
       "\t<dt>City</dt>\n",
       "\t\t<dd>0</dd>\n",
       "\t<dt>Male</dt>\n",
       "\t\t<dd>0</dd>\n",
       "\t<dt>Country</dt>\n",
       "\t\t<dd>0</dd>\n",
       "\t<dt>Timestamp</dt>\n",
       "\t\t<dd>0</dd>\n",
       "\t<dt>Clicked.on.Ad</dt>\n",
       "\t\t<dd>0</dd>\n",
       "</dl>\n"
      ],
      "text/latex": [
       "\\begin{description*}\n",
       "\\item[Daily.Time.Spent.on.Site] 0\n",
       "\\item[Age] 0\n",
       "\\item[Area.Income] 0\n",
       "\\item[Daily.Internet.Usage] 0\n",
       "\\item[Ad.Topic.Line] 0\n",
       "\\item[City] 0\n",
       "\\item[Male] 0\n",
       "\\item[Country] 0\n",
       "\\item[Timestamp] 0\n",
       "\\item[Clicked.on.Ad] 0\n",
       "\\end{description*}\n"
      ],
      "text/markdown": [
       "Daily.Time.Spent.on.Site\n",
       ":   0Age\n",
       ":   0Area.Income\n",
       ":   0Daily.Internet.Usage\n",
       ":   0Ad.Topic.Line\n",
       ":   0City\n",
       ":   0Male\n",
       ":   0Country\n",
       ":   0Timestamp\n",
       ":   0Clicked.on.Ad\n",
       ":   0\n",
       "\n"
      ],
      "text/plain": [
       "Daily.Time.Spent.on.Site                      Age              Area.Income \n",
       "                       0                        0                        0 \n",
       "    Daily.Internet.Usage            Ad.Topic.Line                     City \n",
       "                       0                        0                        0 \n",
       "                    Male                  Country                Timestamp \n",
       "                       0                        0                        0 \n",
       "           Clicked.on.Ad \n",
       "                       0 "
      ]
     },
     "metadata": {},
     "output_type": "display_data"
    }
   ],
   "source": [
    "#Identifying how many they are\n",
    "\n",
    "colSums(is.na(data))\n",
    "\n",
    "#There are no null values in the dataset"
   ]
  },
  {
   "cell_type": "markdown",
   "metadata": {},
   "source": [
    "**Dealing with Outliers**"
   ]
  },
  {
   "cell_type": "code",
   "execution_count": 4,
   "metadata": {},
   "outputs": [
    {
     "name": "stderr",
     "output_type": "stream",
     "text": [
      "Registered S3 methods overwritten by 'ggplot2':\n",
      "  method         from \n",
      "  [.quosures     rlang\n",
      "  c.quosures     rlang\n",
      "  print.quosures rlang\n",
      "Registered S3 method overwritten by 'rvest':\n",
      "  method            from\n",
      "  read_xml.response xml2\n",
      "-- Attaching packages --------------------------------------- tidyverse 1.2.1 --\n",
      "v ggplot2 3.1.1       v purrr   0.3.2  \n",
      "v tibble  2.1.1       v dplyr   0.8.0.1\n",
      "v tidyr   0.8.3       v stringr 1.4.0  \n",
      "v readr   1.3.1       v forcats 0.4.0  \n",
      "-- Conflicts ------------------------------------------ tidyverse_conflicts() --\n",
      "x dplyr::filter() masks stats::filter()\n",
      "x dplyr::lag()    masks stats::lag()\n"
     ]
    }
   ],
   "source": [
    "library(tidyverse)"
   ]
  },
  {
   "cell_type": "code",
   "execution_count": 5,
   "metadata": {},
   "outputs": [
    {
     "data": {
      "image/png": "[encoded data removed]",
      "text/plain": [
       "plot without title"
      ]
     },
     "metadata": {},
     "output_type": "display_data"
    }
   ],
   "source": [
    "boxplot(data$Age)\n"
   ]
  },
  {
   "cell_type": "code",
   "execution_count": 6,
   "metadata": {},
   "outputs": [
    {
     "data": {
      "image/png": "[encoded data removed]",
      "text/plain": [
       "plot without title"
      ]
     },
     "metadata": {},
     "output_type": "display_data"
    }
   ],
   "source": [
    "boxplot(data$Daily.Time.Spent.on.Site)\n"
   ]
  },
  {
   "cell_type": "code",
   "execution_count": 7,
   "metadata": {},
   "outputs": [
    {
     "data": {
      "image/png": "[encoded data removed]",
      "text/plain": [
       "plot without title"
      ]
     },
     "metadata": {},
     "output_type": "display_data"
    }
   ],
   "source": [
    "boxplot(data$Area.Income)\n"
   ]
  },
  {
   "cell_type": "code",
   "execution_count": 8,
   "metadata": {},
   "outputs": [
    {
     "data": {
      "image/png": "[encoded data removed]",
      "text/plain": [
       "plot without title"
      ]
     },
     "metadata": {},
     "output_type": "display_data"
    }
   ],
   "source": [
    "boxplot(data$Male)\n"
   ]
  },
  {
   "cell_type": "code",
   "execution_count": 9,
   "metadata": {},
   "outputs": [
    {
     "data": {
      "image/png": "[encoded data removed]",
      "text/plain": [
       "plot without title"
      ]
     },
     "metadata": {},
     "output_type": "display_data"
    }
   ],
   "source": [
    "boxplot(data$Clicked.on.Ad)\n"
   ]
  },
  {
   "cell_type": "markdown",
   "metadata": {},
   "source": [
    "From the boxplots, we can see that our dataset has no outliers whasoever except for the Area.Income column. We will retain the outliers since they could provide important insights on the analysis.\n",
    "We can therefore go ahead to the Analysis part."
   ]
  },
  {
   "cell_type": "markdown",
   "metadata": {},
   "source": [
    "**Checking for Duplicated Data.**"
   ]
  },
  {
   "cell_type": "code",
   "execution_count": 10,
   "metadata": {},
   "outputs": [
    {
     "data": {
      "text/html": [
       "0"
      ],
      "text/latex": [
       "0"
      ],
      "text/markdown": [
       "0"
      ],
      "text/plain": [
       "[1] 0"
      ]
     },
     "metadata": {},
     "output_type": "display_data"
    }
   ],
   "source": [
    "duplicated_rows = data[duplicated(data),]\n",
    "nrow(duplicated_rows)"
   ]
  },
  {
   "cell_type": "markdown",
   "metadata": {},
   "source": [
    "There are no Duplicated rows in our Dataset."
   ]
  },
  {
   "cell_type": "code",
   "execution_count": 11,
   "metadata": {},
   "outputs": [
    {
     "data": {
      "text/html": [
       "<dl class=dl-horizontal>\n",
       "\t<dt>Daily.Time.Spent.on.Site</dt>\n",
       "\t\t<dd>'numeric'</dd>\n",
       "\t<dt>Age</dt>\n",
       "\t\t<dd>'integer'</dd>\n",
       "\t<dt>Area.Income</dt>\n",
       "\t\t<dd>'numeric'</dd>\n",
       "\t<dt>Daily.Internet.Usage</dt>\n",
       "\t\t<dd>'numeric'</dd>\n",
       "\t<dt>Ad.Topic.Line</dt>\n",
       "\t\t<dd>'factor'</dd>\n",
       "\t<dt>City</dt>\n",
       "\t\t<dd>'factor'</dd>\n",
       "\t<dt>Male</dt>\n",
       "\t\t<dd>'integer'</dd>\n",
       "\t<dt>Country</dt>\n",
       "\t\t<dd>'factor'</dd>\n",
       "\t<dt>Timestamp</dt>\n",
       "\t\t<dd>'factor'</dd>\n",
       "\t<dt>Clicked.on.Ad</dt>\n",
       "\t\t<dd>'integer'</dd>\n",
       "</dl>\n"
      ],
      "text/latex": [
       "\\begin{description*}\n",
       "\\item[Daily.Time.Spent.on.Site] 'numeric'\n",
       "\\item[Age] 'integer'\n",
       "\\item[Area.Income] 'numeric'\n",
       "\\item[Daily.Internet.Usage] 'numeric'\n",
       "\\item[Ad.Topic.Line] 'factor'\n",
       "\\item[City] 'factor'\n",
       "\\item[Male] 'integer'\n",
       "\\item[Country] 'factor'\n",
       "\\item[Timestamp] 'factor'\n",
       "\\item[Clicked.on.Ad] 'integer'\n",
       "\\end{description*}\n"
      ],
      "text/markdown": [
       "Daily.Time.Spent.on.Site\n",
       ":   'numeric'Age\n",
       ":   'integer'Area.Income\n",
       ":   'numeric'Daily.Internet.Usage\n",
       ":   'numeric'Ad.Topic.Line\n",
       ":   'factor'City\n",
       ":   'factor'Male\n",
       ":   'integer'Country\n",
       ":   'factor'Timestamp\n",
       ":   'factor'Clicked.on.Ad\n",
       ":   'integer'\n",
       "\n"
      ],
      "text/plain": [
       "Daily.Time.Spent.on.Site                      Age              Area.Income \n",
       "               \"numeric\"                \"integer\"                \"numeric\" \n",
       "    Daily.Internet.Usage            Ad.Topic.Line                     City \n",
       "               \"numeric\"                 \"factor\"                 \"factor\" \n",
       "                    Male                  Country                Timestamp \n",
       "               \"integer\"                 \"factor\"                 \"factor\" \n",
       "           Clicked.on.Ad \n",
       "               \"integer\" "
      ]
     },
     "metadata": {},
     "output_type": "display_data"
    }
   ],
   "source": [
    "#Getting the datatype for each column in our Df.\n",
    "sapply(data, class)"
   ]
  },
  {
   "cell_type": "code",
   "execution_count": 12,
   "metadata": {},
   "outputs": [
    {
     "data": {
      "text/plain": [
       " Daily.Time.Spent.on.Site      Age         Area.Income    Daily.Internet.Usage\n",
       " Min.   :32.60            Min.   :19.00   Min.   :13996   Min.   :104.8       \n",
       " 1st Qu.:51.36            1st Qu.:29.00   1st Qu.:47032   1st Qu.:138.8       \n",
       " Median :68.22            Median :35.00   Median :57012   Median :183.1       \n",
       " Mean   :65.00            Mean   :36.01   Mean   :55000   Mean   :180.0       \n",
       " 3rd Qu.:78.55            3rd Qu.:42.00   3rd Qu.:65471   3rd Qu.:218.8       \n",
       " Max.   :91.43            Max.   :61.00   Max.   :79485   Max.   :270.0       \n",
       "                                                                              \n",
       "                                 Ad.Topic.Line              City    \n",
       " Adaptive 24hour Graphic Interface      :  1   Lisamouth      :  3  \n",
       " Adaptive asynchronous attitude         :  1   Williamsport   :  3  \n",
       " Adaptive context-sensitive application :  1   Benjaminchester:  2  \n",
       " Adaptive contextually-based methodology:  1   East John      :  2  \n",
       " Adaptive demand-driven knowledgebase   :  1   East Timothy   :  2  \n",
       " Adaptive uniform capability            :  1   Johnstad       :  2  \n",
       " (Other)                                :994   (Other)        :986  \n",
       "      Male                 Country                  Timestamp   Clicked.on.Ad\n",
       " Min.   :0.000   Czech Republic:  9   2016-01-01 02:52:10:  1   Min.   :0.0  \n",
       " 1st Qu.:0.000   France        :  9   2016-01-01 03:35:35:  1   1st Qu.:0.0  \n",
       " Median :0.000   Afghanistan   :  8   2016-01-01 05:31:22:  1   Median :0.5  \n",
       " Mean   :0.481   Australia     :  8   2016-01-01 08:27:06:  1   Mean   :0.5  \n",
       " 3rd Qu.:1.000   Cyprus        :  8   2016-01-01 15:14:24:  1   3rd Qu.:1.0  \n",
       " Max.   :1.000   Greece        :  8   2016-01-01 20:17:49:  1   Max.   :1.0  \n",
       "                 (Other)       :950   (Other)            :994                "
      ]
     },
     "metadata": {},
     "output_type": "display_data"
    }
   ],
   "source": [
    "summary(data)"
   ]
  },
  {
   "cell_type": "code",
   "execution_count": 13,
   "metadata": {},
   "outputs": [
    {
     "data": {
      "text/html": [
       "<ol class=list-inline>\n",
       "\t<li>'Daily.Time.Spent.on.Site'</li>\n",
       "\t<li>'Age'</li>\n",
       "\t<li>'Area.Income'</li>\n",
       "\t<li>'Daily.Internet.Usage'</li>\n",
       "\t<li>'Ad.Topic.Line'</li>\n",
       "\t<li>'City'</li>\n",
       "\t<li>'Male'</li>\n",
       "\t<li>'Country'</li>\n",
       "\t<li>'Timestamp'</li>\n",
       "\t<li>'Clicked.on.Ad'</li>\n",
       "</ol>\n"
      ],
      "text/latex": [
       "\\begin{enumerate*}\n",
       "\\item 'Daily.Time.Spent.on.Site'\n",
       "\\item 'Age'\n",
       "\\item 'Area.Income'\n",
       "\\item 'Daily.Internet.Usage'\n",
       "\\item 'Ad.Topic.Line'\n",
       "\\item 'City'\n",
       "\\item 'Male'\n",
       "\\item 'Country'\n",
       "\\item 'Timestamp'\n",
       "\\item 'Clicked.on.Ad'\n",
       "\\end{enumerate*}\n"
      ],
      "text/markdown": [
       "1. 'Daily.Time.Spent.on.Site'\n",
       "2. 'Age'\n",
       "3. 'Area.Income'\n",
       "4. 'Daily.Internet.Usage'\n",
       "5. 'Ad.Topic.Line'\n",
       "6. 'City'\n",
       "7. 'Male'\n",
       "8. 'Country'\n",
       "9. 'Timestamp'\n",
       "10. 'Clicked.on.Ad'\n",
       "\n",
       "\n"
      ],
      "text/plain": [
       " [1] \"Daily.Time.Spent.on.Site\" \"Age\"                     \n",
       " [3] \"Area.Income\"              \"Daily.Internet.Usage\"    \n",
       " [5] \"Ad.Topic.Line\"            \"City\"                    \n",
       " [7] \"Male\"                     \"Country\"                 \n",
       " [9] \"Timestamp\"                \"Clicked.on.Ad\"           "
      ]
     },
     "metadata": {},
     "output_type": "display_data"
    }
   ],
   "source": [
    "#getting the column names.\n",
    "names(data)"
   ]
  },
  {
   "cell_type": "code",
   "execution_count": 14,
   "metadata": {},
   "outputs": [
    {
     "data": {
      "image/png": "[encoded data removed]",
      "text/plain": [
       "plot without title"
      ]
     },
     "metadata": {},
     "output_type": "display_data"
    }
   ],
   "source": [
    "y = data$Daily.Time.Spent.on.Site\n",
    "x = data$Timestamp\n",
    "plot(x,y, xlab='Timestamp', ylab='Time spent',type = 'l')"
   ]
  },
  {
   "cell_type": "code",
   "execution_count": 15,
   "metadata": {},
   "outputs": [
    {
     "data": {
      "image/png": "[encoded data removed]",
      "text/plain": [
       "plot without title"
      ]
     },
     "metadata": {},
     "output_type": "display_data"
    }
   ],
   "source": [
    "x = data$Timestamp\n",
    "y = data$Area.Income\n",
    "plot(x,y, xlab='Timestamp',ylab='Area.Income')"
   ]
  },
  {
   "cell_type": "code",
   "execution_count": 16,
   "metadata": {},
   "outputs": [
    {
     "data": {
      "image/png": "[encoded data removed]",
      "text/plain": [
       "plot without title"
      ]
     },
     "metadata": {},
     "output_type": "display_data"
    }
   ],
   "source": [
    "x = data$Timestamp\n",
    "y = data$Daily.Internet.Usage\n",
    "plot(x,y, xlab='Timestamp',ylab='Daily Internet Usage')"
   ]
  },
  {
   "cell_type": "code",
   "execution_count": 17,
   "metadata": {},
   "outputs": [
    {
     "data": {
      "image/png": "[encoded data removed]",
      "text/plain": [
       "plot without title"
      ]
     },
     "metadata": {},
     "output_type": "display_data"
    }
   ],
   "source": [
    "x = data$Daily.Time.Spent.on.Site\n",
    "y = data$Daily.Internet.Usage\n",
    "plot(x,y, xlab='Time spent on site',ylab='Daily Internet Usage')"
   ]
  },
  {
   "cell_type": "code",
   "execution_count": 18,
   "metadata": {},
   "outputs": [],
   "source": [
    "library(ggplot2)"
   ]
  },
  {
   "cell_type": "code",
   "execution_count": 21,
   "metadata": {},
   "outputs": [
    {
     "ename": "ERROR",
     "evalue": "Error in pie(x, labels = lbls, main = \"Pie Charts of the sex\"): object 'lbls' not found\n",
     "output_type": "error",
     "traceback": [
      "Error in pie(x, labels = lbls, main = \"Pie Charts of the sex\"): object 'lbls' not found\nTraceback:\n",
      "1. pie(x, labels = lbls, main = \"Pie Charts of the sex\")"
     ]
    }
   ],
   "source": [
    "\n",
    "x=table(data$Male)\n",
    "\n",
    "#getting percentages\n",
    "pct = round(x/sum(x)*100)\n",
    "\n",
    "#lbls = c('0', '1')\n",
    "\n",
    "#adding them as our labels\n",
    "#lbls = (lbls,pct)\n",
    "\n",
    "pie(x, labels = lbls, main = 'Pie Charts of the sex')\n",
    "\n",
    "#The number of the females who clicked on the Ad are slightly less than the number of Males.\n"
   ]
  },
  {
   "cell_type": "code",
   "execution_count": 20,
   "metadata": {},
   "outputs": [
    {
     "data": {
      "image/png": "[encoded data removed]",
      "text/plain": [
       "Plot with title \"Pie Charts of the people who clicked on the Ad\""
      ]
     },
     "metadata": {},
     "output_type": "display_data"
    }
   ],
   "source": [
    "x=table(data$Clicked.on.Ad)\n",
    "pie(x, main = 'Pie Charts of the people who clicked on the Ad')"
   ]
  },
  {
   "cell_type": "code",
   "execution_count": 22,
   "metadata": {},
   "outputs": [
    {
     "data": {
      "text/html": [
       "<table>\n",
       "<thead><tr><th></th><th scope=col>Daily.Time.Spent.on.Site</th><th scope=col>Age</th><th scope=col>Area.Income</th><th scope=col>Daily.Internet.Usage</th><th scope=col>Male</th><th scope=col>Clicked.on.Ad</th></tr></thead>\n",
       "<tbody>\n",
       "\t<tr><th scope=row>Daily.Time.Spent.on.Site</th><td> 1.00000000 </td><td>-0.33151334 </td><td> 0.310954413</td><td> 0.51865848 </td><td>-0.018950855</td><td>-0.74811656 </td></tr>\n",
       "\t<tr><th scope=row>Age</th><td>-0.33151334 </td><td> 1.00000000 </td><td>-0.182604955</td><td>-0.36720856 </td><td>-0.021044064</td><td> 0.49253127 </td></tr>\n",
       "\t<tr><th scope=row>Area.Income</th><td> 0.31095441 </td><td>-0.18260496 </td><td> 1.000000000</td><td> 0.33749553 </td><td> 0.001322359</td><td>-0.47625463 </td></tr>\n",
       "\t<tr><th scope=row>Daily.Internet.Usage</th><td> 0.51865848 </td><td>-0.36720856 </td><td> 0.337495533</td><td> 1.00000000 </td><td> 0.028012326</td><td>-0.78653918 </td></tr>\n",
       "\t<tr><th scope=row>Male</th><td>-0.01895085 </td><td>-0.02104406 </td><td> 0.001322359</td><td> 0.02801233 </td><td> 1.000000000</td><td>-0.03802747 </td></tr>\n",
       "\t<tr><th scope=row>Clicked.on.Ad</th><td>-0.74811656 </td><td> 0.49253127 </td><td>-0.476254628</td><td>-0.78653918 </td><td>-0.038027466</td><td> 1.00000000 </td></tr>\n",
       "</tbody>\n",
       "</table>\n"
      ],
      "text/latex": [
       "\\begin{tabular}{r|llllll}\n",
       "  & Daily.Time.Spent.on.Site & Age & Area.Income & Daily.Internet.Usage & Male & Clicked.on.Ad\\\\\n",
       "\\hline\n",
       "\tDaily.Time.Spent.on.Site &  1.00000000  & -0.33151334  &  0.310954413 &  0.51865848  & -0.018950855 & -0.74811656 \\\\\n",
       "\tAge & -0.33151334  &  1.00000000  & -0.182604955 & -0.36720856  & -0.021044064 &  0.49253127 \\\\\n",
       "\tArea.Income &  0.31095441  & -0.18260496  &  1.000000000 &  0.33749553  &  0.001322359 & -0.47625463 \\\\\n",
       "\tDaily.Internet.Usage &  0.51865848  & -0.36720856  &  0.337495533 &  1.00000000  &  0.028012326 & -0.78653918 \\\\\n",
       "\tMale & -0.01895085  & -0.02104406  &  0.001322359 &  0.02801233  &  1.000000000 & -0.03802747 \\\\\n",
       "\tClicked.on.Ad & -0.74811656  &  0.49253127  & -0.476254628 & -0.78653918  & -0.038027466 &  1.00000000 \\\\\n",
       "\\end{tabular}\n"
      ],
      "text/markdown": [
       "\n",
       "| <!--/--> | Daily.Time.Spent.on.Site | Age | Area.Income | Daily.Internet.Usage | Male | Clicked.on.Ad |\n",
       "|---|---|---|---|---|---|---|\n",
       "| Daily.Time.Spent.on.Site |  1.00000000  | -0.33151334  |  0.310954413 |  0.51865848  | -0.018950855 | -0.74811656  |\n",
       "| Age | -0.33151334  |  1.00000000  | -0.182604955 | -0.36720856  | -0.021044064 |  0.49253127  |\n",
       "| Area.Income |  0.31095441  | -0.18260496  |  1.000000000 |  0.33749553  |  0.001322359 | -0.47625463  |\n",
       "| Daily.Internet.Usage |  0.51865848  | -0.36720856  |  0.337495533 |  1.00000000  |  0.028012326 | -0.78653918  |\n",
       "| Male | -0.01895085  | -0.02104406  |  0.001322359 |  0.02801233  |  1.000000000 | -0.03802747  |\n",
       "| Clicked.on.Ad | -0.74811656  |  0.49253127  | -0.476254628 | -0.78653918  | -0.038027466 |  1.00000000  |\n",
       "\n"
      ],
      "text/plain": [
       "                         Daily.Time.Spent.on.Site Age         Area.Income \n",
       "Daily.Time.Spent.on.Site  1.00000000              -0.33151334  0.310954413\n",
       "Age                      -0.33151334               1.00000000 -0.182604955\n",
       "Area.Income               0.31095441              -0.18260496  1.000000000\n",
       "Daily.Internet.Usage      0.51865848              -0.36720856  0.337495533\n",
       "Male                     -0.01895085              -0.02104406  0.001322359\n",
       "Clicked.on.Ad            -0.74811656               0.49253127 -0.476254628\n",
       "                         Daily.Internet.Usage Male         Clicked.on.Ad\n",
       "Daily.Time.Spent.on.Site  0.51865848          -0.018950855 -0.74811656  \n",
       "Age                      -0.36720856          -0.021044064  0.49253127  \n",
       "Area.Income               0.33749553           0.001322359 -0.47625463  \n",
       "Daily.Internet.Usage      1.00000000           0.028012326 -0.78653918  \n",
       "Male                      0.02801233           1.000000000 -0.03802747  \n",
       "Clicked.on.Ad            -0.78653918          -0.038027466  1.00000000  "
      ]
     },
     "metadata": {},
     "output_type": "display_data"
    }
   ],
   "source": [
    "my_num_data = data[, sapply(data, is.numeric)]\n",
    "\n",
    "cor(my_num_data, use = \"complete.obs\", method = \"pearson\")"
   ]
  },
  {
   "cell_type": "code",
   "execution_count": 23,
   "metadata": {},
   "outputs": [
    {
     "name": "stdout",
     "output_type": "stream",
     "text": [
      "package 'corrplot' successfully unpacked and MD5 sums checked\n",
      "\n",
      "The downloaded binary packages are in\n",
      "\tC:\\Users\\USER\\AppData\\Local\\Temp\\Rtmp8COfbJ\\downloaded_packages\n"
     ]
    },
    {
     "name": "stderr",
     "output_type": "stream",
     "text": [
      "corrplot 0.84 loaded\n"
     ]
    },
    {
     "data": {
      "image/png": "[encoded data removed]",
      "text/plain": [
       "Plot with title \"\""
      ]
     },
     "metadata": {},
     "output_type": "display_data"
    }
   ],
   "source": [
    "#installing the necessary packages and the libraries.\n",
    "install.packages(\"corrplot\")\n",
    "library(corrplot)\n",
    "\n",
    "#`getting the numeric values of our dataaset\n",
    "my_num_data = data[, sapply(data, is.numeric)]\n",
    "\n",
    "#plotting the numeric values.\n",
    "corrplot(cor(my_num_data), method = 'shade')"
   ]
  },
  {
   "cell_type": "code",
   "execution_count": 24,
   "metadata": {},
   "outputs": [
    {
     "data": {
      "image/png": "[encoded data removed]",
      "text/plain": [
       "Plot with title \"number of Clicks on an Ad as per each sex, 0=Female, 1=male\""
      ]
     },
     "metadata": {},
     "output_type": "display_data"
    }
   ],
   "source": [
    "# Grouped Bar Plot\n",
    "counts = table(data$Male, data$Clicked.on.Ad)\n",
    "barplot(counts, main=\"number of Clicks on an Ad as per each sex, 0=Female, 1=male\",\n",
    "xlab=\"Ad Clicks\", col=c(\"green\",\"red\"),\n",
    "legend = rownames(counts), beside=TRUE)"
   ]
  },
  {
   "cell_type": "code",
   "execution_count": 25,
   "metadata": {},
   "outputs": [
    {
     "data": {
      "image/png": "[encoded data removed]",
      "text/plain": [
       "Plot with title \"number of Clicks on an Ad as per Age\""
      ]
     },
     "metadata": {},
     "output_type": "display_data"
    }
   ],
   "source": [
    "# Grouped Bar Plot\n",
    "counts = table(data$Age, data$Clicked.on.Ad)\n",
    "barplot(counts, main=\"number of Clicks on an Ad as per Age\",\n",
    "xlab=\"Ad Clicks\", col=c(\"green\",\"red\"),\n",
    "legend = rownames(counts), beside=TRUE)"
   ]
  },
  {
   "cell_type": "markdown",
   "metadata": {},
   "source": [
    "# MODELLING "
   ]
  },
  {
   "cell_type": "code",
   "execution_count": null,
   "metadata": {},
   "outputs": [],
   "source": [
    "#importing necessary libraries\n",
    "\n",
    "library(tidyverse)\n",
    "\n",
    "library(randomForest)\n",
    "\n",
    "library(modelr)\n",
    "\n",
    "library(caret)\n"
   ]
  },
  {
   "cell_type": "code",
   "execution_count": null,
   "metadata": {},
   "outputs": [],
   "source": [
    "#Multiple Regression\n",
    "\n",
    "model1 = lm(Clicked.on.Ad ~ Daily.Time.Spent.on.Site+Age+Area.Income+Daily.Internet.Usage+Male, data = data)\n",
    "print(model1)\n",
    "\n",
    "cat('\\n')\n",
    "\n",
    "summary(model1)"
   ]
  },
  {
   "cell_type": "code",
   "execution_count": null,
   "metadata": {},
   "outputs": [],
   "source": [
    "#LOGISTIC REGRESSION\n",
    "\n",
    "str(data)"
   ]
  },
  {
   "cell_type": "code",
   "execution_count": null,
   "metadata": {},
   "outputs": [],
   "source": [
    "# Install and load caTools package \n",
    "\n",
    "install.packages('caTools')\n",
    "library(caTools)"
   ]
  },
  {
   "cell_type": "code",
   "execution_count": null,
   "metadata": {},
   "outputs": [],
   "source": [
    "set.seed(0) #similar to random_state in python.\n",
    "\n",
    "split = sample.split(data$Clicked.on.Ad, SplitRatio = 0.75)\n",
    "head(split)"
   ]
  },
  {
   "cell_type": "code",
   "execution_count": null,
   "metadata": {},
   "outputs": [],
   "source": [
    "#the true should be our training test while false should be our test set.\n",
    "\n",
    "train = subset(data, split ==TRUE)\n",
    "test = subset(data, split == FALSE)\n",
    "\n",
    "nrow(train)\n",
    "nrow(test)"
   ]
  },
  {
   "cell_type": "code",
   "execution_count": null,
   "metadata": {},
   "outputs": [],
   "source": [
    "log = glm(Clicked.on.Ad ~ Daily.Time.Spent.on.Site+Age+Area.Income+Daily.Internet.Usage+Male, data = train)\n",
    "print(log)\n"
   ]
  },
  {
   "cell_type": "code",
   "execution_count": null,
   "metadata": {},
   "outputs": [],
   "source": [
    "summary(log)"
   ]
  },
  {
   "cell_type": "code",
   "execution_count": null,
   "metadata": {},
   "outputs": [],
   "source": [
    "prediction = predict(log, type=\"response\")\n",
    "summary(predictTrain)\n",
    "\n",
    "cat('\\n')\n",
    "\n",
    "#the tapply function computes the average prediction for each of the true outcomes.\n",
    "tapply(prediction, train$Clicked.on.Ad, mean)"
   ]
  },
  {
   "cell_type": "code",
   "execution_count": 26,
   "metadata": {},
   "outputs": [
    {
     "name": "stdout",
     "output_type": "stream",
     "text": [
      "package 'devtools' successfully unpacked and MD5 sums checked\n",
      "\n",
      "The downloaded binary packages are in\n",
      "\tC:\\Users\\USER\\AppData\\Local\\Temp\\Rtmp8COfbJ\\downloaded_packages\n"
     ]
    }
   ],
   "source": [
    "#XGBOOST ALGORITHM.\n",
    "\n",
    "#loading all the necessary libraries\n",
    "\n",
    "install.packages('devtools')\n",
    "\n"
   ]
  },
  {
   "cell_type": "code",
   "execution_count": null,
   "metadata": {},
   "outputs": [
    {
     "name": "stderr",
     "output_type": "stream",
     "text": [
      "Warning message:\n",
      "\"dependencies 'rcom', 'RDCOMClient', 'Biobase', 'annotate', 'GO.db', 'moe430a.db', 'RTCGA.rnaseq', 'globaltest', 'genefilter', 'golubEsets', 'rPython', 'Rcompression', 'Rgraphviz', 'graph', 'sylly.de', 'sylly.es', 'starsdata', 'lqa', 'FRB', 'inlinedocs', 'spDataLarge', 'ComplexHeatmap', 'Rcampdf', 'Rpoppler', 'tm.lexicon.GeneralInquirer', 'corpus.JSS.papers', 'gof' are not available\"also installing the dependencies 'lsei', 'VarianceGamma', 'SkewHyperbolic', 'mfx', 'here', 'prettycode', 'highcharter', 'registry', 'rjags', 'npsurv', 'mc2d', 'knitcitations', 'GeneralizedHyperbolic', 'estimability', 'DHARMa', 'dotwhisker', 'dismo', 'BRugs', 'cond', 'nlreg', 'styler', 'shinyAce', 'shinyEffects', 'shinyjqui', 'echarts4r', 'transformr', 'treemap', 'pkgmaker', 'rredis', 'R2jags', 'fitdistrplus', 'glmmTMB', 'maxlike', 'R2OpenBUGS', 'R2WinBUGS', 'jagsUI', 'evdbayes', 'marg', 'shinydashboard', 'shinydashboardPlus', 'bs4Dash', 'argonR', 'argonDash', 'tablerDash', 'gganimate', 'data.tree', 'netrankr', 'influenceR', 'NetSwan', 'mongolite', 'pwr', 'rngtools', 'doRedis', 'bibtex', 'gistr', 'irlba', 'Guerry', 'emdbook', 'AICcmodavg', 'cobs', 'mvPot', 'gmm', 'revdbayes', 'ismev', 'spray', 'rngWELL', 'CDVine', 'TSP', 'csampling', 'mosaicCore', 'oz', 'benchr', 'R.methodsS3', 'shape', 'shinyWidgets', 'colourpicker', 'ggraph', 'tidygraph', 'flashClust', 'ssh', 'profileModel', 'sjstats', 'stringdist', 'ggridges', 'TMB', 'purrrlyr', 'isa2', 'doRNG', 'prettyGraphs', 'LDAvis', 'Rtsne', 'rsvd', 'tokenizers', 'gutenbergr', 'mallet', 'textdata', 'OAIHarvester', 'lava.tobit', 'ade4TkGUI', 'adegraphics', 'adephylo', 'pixmap', 'splancs', 'waveslim', 'bbmle', 'crop', 'lcopula', 'mev', 'mvnormtest', 'partitions', 'qrng', 'randtoolbox', 'Runuran', 'VineCopula', 'LaplacesDemon', 'hoa', 'skellam', 'triangle', 'RcmdrMisc', 'aplpack', 'nortest', 'ggstance', 'mosaicModel', 'mosaicCalc', 'DAAG', 'cubature', 'Devore7', 'R.oo', 'rootSolve', 'diagram', 'OpenMPController', 'evd', 'PKI', 'visNetwork', 'analogsea', 'brglm', 'ROI', 'combinat', 'orthopolynom', 'sjmisc', 'sjPlot', 'snakecase', 'GPArotation', 'WrightMap', 'fontcm', 'biclust', 'GA', 'ca', 'ExPosition', 'lda', 'lsa', 'stm', 'svs', 'text2vec', 'tidytext', 'topicmodels', 'BayesXsrc', 'MBA', 'lava', 'StanHeaders', 'RcppEigen', 'wbstats', 'udunits2', 'NISTunits', 'measurements', 'ggmap', 'ade4', 'adehabitatMA', 'CircStats', 'dygraphs', 'lasso2', 'prim', 'Rcsdp', 'copula', 'extraDistr', 'FMStable', 'rrcov', 'snowFT', 'glm2', 'NLP', 'antiword', 'filehash', 'SnowballC', 'Rcmdr', 'candisc', 'corrgram', 'animation', 'mvinfluence', 'ggformula', 'mosaicData', 'fastR', 'NHANES', 'tfestimators', 'formattable', 'statnet.common', 'R.utils', 'FME', 'dotCall64', 'truncdist', 'whoami', 'RJSONIO', 'plumber', 'gamlss.dist', 'ei', 'eiPack', 'networkD3', 'optmatch', 'ZeligChoice', 'ZeligEI', 'zeligverse', 'VIM', 'BIFIEsurvey', 'blme', 'CDM', 'grouped', 'inline', 'MBESS', 'MCMCglmm', 'mdmb', 'sjlabelled', 'TAM', 'extrafont', 'flexdashboard', 'seriation', 'profdpm', 'heatmaply', 'd3heatmap', 'dynamicTreeCut', 'pvclust', 'DendSer', 'circlize', 'quanteda', 'R2BayesX', 'relsurv', 'date', 'mets', 'rbenchmark', 'Bessel', 'polynom', 'loo', 'rstan', 'rstanarm', 'rstantools', 'shinystan', 'RWiener', 'mnormt', 'splines2', 'arm', 'speedglm', 'googleVis', 'zipcode', 'RMariaDB', 'concaveman', 'units', 'geoknife', 'adehabitatLT', 'cshapes', 'diveMove', 'ISOcodes', 'wesanderson', 'iplots', 'shinythemes', 'PerformanceAnalytics', 'fTrading', 'miscTools', 'polycor', 'ElemStatLearn', 'lavaan.survey', 'pbivnorm', 'pbv', 'psych', 'SimDesign', 'geoRglm', 'BiasedUrn', 'prettydoc', 'stabledist', 'BMA', 'DescTools', 'gridBase', 'pryr', 'invgamma', 'ipumsr', 'latentnet', 'tergm', 'ergm.count', 'ergm.userterms', 'networkDynamic', 'xergm.common', 'fastglm', 'tm', 'relimp', 'faraway', 'poLCA', 'heplots', 'betareg', 'VGAMdata', 'agricolae', 'mosaic', 'tfdatasets', 'jpeg', 'sparkline', 'sparklyr', 'geosphere', 'intergraph', 'network', 'scagnostics', 'sna', 'packagedocs', 'egg', 'itertools', 'future.apply', 'listenv', 'BatchJobs', 'rlecuyer', 'nws', 'scalreg', 'R.devices', 'binda', 'Rglpk', 'Rsymphony', 'missMDA', 'deSolve', 'R.matlab', 'spam', 'igraphdata', 'sn', 'tinytest', 'pkgKitten', 'reticulate', 'pinp', 'leaflet', 'rticles', 'rsconnect', 'bit', 'plot3D', 'AGD', 'CALIBERrfimpute', 'gamlss', 'mitools', 'pan', 'Zelig', 'BSDA', 'micemd', 'miceadds', 'kableExtra', 'LaF', 'ggthemes', 'shinytest', 'webshot', 'listviewer', 'dendextend', 'plotlyGeoAssets', 'janeaustenr', 'wordcloud2', 'stopwords', 'KrigInv', 'GPareto', 'gamboostLSS', 'QUIC', 'huge', 'shapefiles', 'gpclib', 'mstate', 'popEpi', 'uroot', 'pgirmess', 'cmprsk', 'crrstep', 'riskRegression', 'Rmpfr', 'sgeostat', 'bayesplot', 'brms', 'mediation', 'lmerTest', 'MuMIn', 'FrF2.catlg128', 'dtplyr', 'Lahman', 'nycflights13', 'RMySQL', 'plainview', 'DBItest', 'abind', 'PCICt', 'RNetCDF', 'ggforce', 'ncdfgeom', 'ncmeta', 'spacetime', 'tidync', 'repurrrsive', 'rmapshaper', 'cartogram', 'osmdata', 'pillar', 'fastmatch', 'DiagrammeRsvg', 'arulesViz', 'timeSeries', 'fBasics', 'maxLik', 'sem', 'directlabels', 'Rsolnp', 'nloptr', 'sirt', 'mirtCAT', 'geoR', 'denstrip', 'minqa', 'soma', 'pso', 'fftw', 'metafor', 'robumeta', 'spData', 'spatialreg', 'RSpectra', 'classInt', 'tweedie', 'Ecfun', 'msm', 'ergm', 'btergm', 'miniUI', 'servr', 'testit', 'tufte', 'setRNG', 'BB', 'ucminf', 'lbfgsb3', 'lbfgs', 'subplex', 'alr3', 'gamair', 'wordcloud', 'lokern', 'qvcalc', 'glmmML', 'GAMBoost', 'basefun', 'variables', 'nonnest2', 'lavaan', 'gamlss.data', 'mdhglm', 'eha', 'flexsurv', 'coxinterval', 'ICsurv', 'polspline', 'bshazard', 'gss', 'MIICD', 'TransModel', 'dynsurv', 'timereg', 'survivalMPL', 'muhaz', 'ICE', 'gmodels', 'Fahrmeir', 'effects', 'VGAM', 'Sleuth2', 'AmesHousing', 'keras', 'vip', 'rasterVis', 'rgdal', 'eaf', 'GGally', 'gridExtra', 'lhs', 'bartMachineJARs', 'missForest', 'debugme', 'doMPI', 'future', 'future.batchtools', 'parallelMap', 'snow', 'hdi', 'R.rsp', 'corpcor', 'crossval', 'lpSolve', 'quadprog', 'relations', 'gtools', 'OpenImageR', 'RankAggreg', 'kohonen', 'Cairo', 'gridGraphics', 'PASWR', 'VennDiagram', 'snowfall', 'FactoMineR', 'lars', 'fda', 'fields', 'mapdata', 'igraph', 'chemometrics', 'tclust', 'pdfCluster', 'EMMIXskew', 'RcppArmadillo', 'entropy', 'pbapply', 'pkgdown', 'bit64', 'plot3Drgl', 'chron', 'rms', 'mice', 'tables', 'ff', 'ffbase', 'plotly', 'hunspell', 'gcookbook', 'DiceOptim', 'mockery', 'stabs', 'BayesX', 'kangar00', 'mldr.datasets', 'cmaesr', 'sylly', 'sylly.en', 'futile.logger', 'descr', 'reshape', 'memisc', 'Epi', 'forecast', 'multcompView', 'pec', 'imbalance', 'dtw', 'gmp', 'gplots', 'pcaPP', 'mvoutlier', 'glasso', 'matrixcalc', 'emmeans', 'Vdgraph', 'conf.design', 'DoE.base', 'FrF2', 'NeuralNetTools', 'fdrtool', 'blob', 'dplyr', 'lwgeom', 'mapview', 'odbc', 'pool', 'RPostgres', 'RPostgreSQL', 'RSQLite', 'stars', 'tidyr', 'tmap', 'vctrs', 'BBmisc', 'checkmate', 'fontquiver', 'DiagrammeR', 'Ckmeans.1d.dp', 'float', 'amap', 'arules', 'neighbr', 'fGarch', 'ineq', 'longmemo', 'mlogit', 'np', 'rugarch', 'sampleSelection', 'systemfit', 'truncreg', 'urca', 'vars', 'likert', 'mirt', 'av', 'spelling', 'rsvg', 'webp', 'pdftools', 'gapminder', 'tesseract', 'gifski', 'Deriv', 'geometry', 'alphahull', 'gstat', 'spatstat.data', 'sm', 'gsl', 'locfit', 'rpanel', 'RandomFields', 'RandomFieldsUtils', 'fftwtools', 'ncdf4', 'clusterSEs', 'clubSandwich', 'pglm', 'spdep', 'splm', 'statmod', 'Ecdat', 'pder', 'stargazer', 'texreg', 'bookdown', 'MCMCpack', 'coda', 'bdsmatrix', 'kinship2', 'biglm', 'RODBC', 'CompQuadForm', 'expm', 'actuar', 'diptest', 'SuppDists', 'PKPDmodels', 'MEMSS', 'mlmRev', 'optimx', 'gamm4', 'pbkrtest', 'HSAUR2', 'dfoptim', 'mix', 'robust', 'fit.models', 'MPV', 'sfsmisc', 'catdata', 'skewt', 'mlt', 'trtf', 'ATR', 'merDeriv', 'SparseGrid', 'alabama', 'latticeExtra', 'HSAUR3', 'ordinalCont', 'glmmsr', 'mlt.docreg', 'ordinal', 'nor1mix', 'vcdExtra', 'pdp', 'viridis', 'ParamHelpers', 'ada', 'adabag', 'bartMachine', 'batchtools', 'brnn', 'bst', 'care', 'clue', 'ClusterR', 'clusterSim', 'clValid', 'cmaes', 'cowplot', 'CoxBoost', 'crs', 'deepnet', 'DiceKriging', 'DiscriMiner', 'elasticnet', 'emoa', 'evtree', 'extraTrees', 'fda.usc', 'FDboost', 'flare', 'FNN', 'fpc', 'frbs', 'FSelector', 'FSelectorRcpp', 'GenSA', 'ggpubr', 'GPfit', 'h2o', 'Hmisc', 'hrbrthemes', 'irace', 'kknn', 'laGP', 'LiblineaR', 'lintr', 'mboost', 'mco', 'mldr', 'mlrMBO', 'mmpf', 'mRMRe', 'nodeHarvest', 'pander', 'penalized', 'PMCMR', 'praznik', 'randomForestSRC', 'rappdirs', 'refund', 'rFerns', 'rgenoud', 'rknn', 'ROCR', 'rotationForest', 'RRF', 'rrlda', 'rsm', 'RSNNS', 'RWeka', 'sda', 'sf', 'smoof', 'sparseLDA', 'stepPlr', 'survAUC', 'svglite', 'SwarmSVM', 'tgp', 'wavelets', 'xgboost', 'libcoin', 'pmml', 'rJava', 'AER', 'psychotools', 'psychotree', 'glmertree', 'deldir', 'orientlib', 'misc3d', 'magick', 'tripack', 'interp', 'alphashape3d', 'sp', 'rgeos', 'spatstat', 'PBSmapping', 'raster', 'polyclip', 'spatstat.utils', 'geepack', 'multiwayvcov', 'pcse', 'plm', 'pscl', 'carData', 'alr4', 'coxme', 'leaps', 'MatrixModels', 'survey', 'TSA', 'ape', 'flexmix', 'gee', 'lme4', 'mclust', 'rmeta', 'RCurl', 'robustbase', 'SimComp', 'ISwR', 'tram', 'ggplot2movies', 'mapproj', 'profvis', 'quantreg', 'gnm', 'plotrix', 'C50', 'gbm', 'glmnetUtils', 'mlr', 'neuralnet', 'partykit', 'pre', 'rpart.plot', 'tkrplot', 'rgl', 'tcltk2', 'png', 'logspline', 'maptools', 'R2wd', 'manipulate', 'sandwich', 'car', 'dynlm', 'lmtest', 'tseries', 'gdata', 'HSAUR', 'coin', 'measures', 'ranger', 'XML', 'multcomp', 'ggplot2', 'gclus', 'prefmod', 'SparseM', 'slam', 'Formula', 'plotmo', 'TeachingDemos', 'akima', 'scatterplot3d', 'som', 'mvtnorm', 'modeltools', 'strucchange', 'TH.data', 'vcd', 'varImp', 'Rmpi', 'RUnit', 'microbenchmark', 'logcondens', 'doParallel', 'vdiffr', 'cba', 'BradleyTerry2', 'e1071', 'earth', 'fastICA', 'gam', 'kernlab', 'klaR', 'ellipse', 'mda', 'mlbench', 'MLmetrics', 'party', 'pls', 'pROC', 'proxy', 'RANN', 'spls', 'subselect', 'pamr', 'superpc', 'Cubist'\n",
      "\n"
     ]
    },
    {
     "name": "stdout",
     "output_type": "stream",
     "text": [
      "\n",
      "  There are binary versions available but the source versions are later:\n",
      "          binary  source needs_compilation\n",
      "spam       2.3-0 2.3-0.2              TRUE\n",
      "tidync     0.2.1   0.2.2             FALSE\n",
      "effects    4.1-2   4.1-3             FALSE\n",
      "relations  0.6-8   0.6-9             FALSE\n",
      "car        3.0-3   3.0-4             FALSE\n",
      "slam      0.1-45  0.1-46              TRUE\n",
      "plotmo     3.5.5   3.5.6             FALSE\n",
      "\n",
      "  Binaries will be installed\n"
     ]
    },
    {
     "name": "stderr",
     "output_type": "stream",
     "text": [
      "Package which is only available in source form, and may need\n",
      "  compilation of C/C++/Fortran: 'gpclib'\n"
     ]
    },
    {
     "name": "stdout",
     "output_type": "stream",
     "text": [
      "  These will not be installed\n"
     ]
    },
    {
     "name": "stderr",
     "output_type": "stream",
     "text": [
      "Warning message:\n",
      "\"packages 'dplyr', 'tidyr', 'ggplot2' are in use and will not be installed\""
     ]
    }
   ],
   "source": [
    "install.packages(\"caret\", dependencies=c(\"Depends\", \"Suggests\"))"
   ]
  },
  {
   "cell_type": "code",
   "execution_count": null,
   "metadata": {},
   "outputs": [],
   "source": [
    "install.packages(\"xgboost\")"
   ]
  },
  {
   "cell_type": "code",
   "execution_count": null,
   "metadata": {},
   "outputs": [],
   "source": [
    "library(xgboost)\n"
   ]
  },
  {
   "cell_type": "code",
   "execution_count": null,
   "metadata": {},
   "outputs": [],
   "source": [
    "library(caret)\n"
   ]
  },
  {
   "cell_type": "code",
   "execution_count": null,
   "metadata": {},
   "outputs": [],
   "source": [
    "library(car)\n"
   ]
  },
  {
   "cell_type": "code",
   "execution_count": null,
   "metadata": {},
   "outputs": [],
   "source": [
    "library(stringr)\n"
   ]
  },
  {
   "cell_type": "code",
   "execution_count": null,
   "metadata": {},
   "outputs": [],
   "source": [
    "library(readr)\n"
   ]
  },
  {
   "cell_type": "code",
   "execution_count": null,
   "metadata": {},
   "outputs": [],
   "source": [
    "xgb = xgboost(Clicked.on.Ad ~ Daily.Time.Spent.on.Site+Age+Area.Income+Daily.Internet.Usage+Male, data = data)"
   ]
  },
  {
   "cell_type": "code",
   "execution_count": null,
   "metadata": {},
   "outputs": [],
   "source": [
    "#RANDOM FOREST\n",
    "\n",
    "#Importing the necessary library\n",
    "library(randomForest) "
   ]
  },
  {
   "cell_type": "code",
   "execution_count": null,
   "metadata": {},
   "outputs": [],
   "source": [
    "# split data into testing & training\n",
    "set.seed(0)\n",
    "\n",
    "# 80-20 train/test split \n",
    "training_indexs <- createDataPartition(data$Clicked.on.Ad, p = 0.2, list = F)\n",
    "training <- data[training_indexs, ]\n",
    "testing  <- data[-training_indexs, ]"
   ]
  },
  {
   "cell_type": "code",
   "execution_count": null,
   "metadata": {},
   "outputs": [],
   "source": [
    "# get predictors\n",
    "predictors <- training %>% select(-c(Clicked.on.Ad, Ad.Topic.Line, Timestamp,City,Country)) %>% as.matrix()\n",
    "output <- training$Clicked.on.Ad %>% as.factor()\n",
    "str(output)\n",
    "class(output)"
   ]
  },
  {
   "cell_type": "code",
   "execution_count": null,
   "metadata": {},
   "outputs": [],
   "source": [
    "# train a random forest model for Classification\n",
    "model <- randomForest(x = predictors, y = output,\n",
    "                      ntree = 50) # number of trees\n",
    "\n",
    "# check out the details\n",
    "model"
   ]
  },
  {
   "cell_type": "code",
   "execution_count": null,
   "metadata": {},
   "outputs": [],
   "source": [
    "# use caret to pick a value for mtry\n",
    "tuned_model <- train(x = predictors, y = output,\n",
    "                     ntree = 5, # number of trees (passed on random forest)\n",
    "                     method = \"rf\") # random forests\n",
    "\n",
    "tuned_model\n"
   ]
  },
  {
   "cell_type": "code",
   "execution_count": null,
   "metadata": {},
   "outputs": [],
   "source": []
  }
 ],
 "metadata": {
  "kernelspec": {
   "display_name": "R",
   "language": "R",
   "name": "ir"
  },
  "language_info": {
   "codemirror_mode": "r",
   "file_extension": ".r",
   "mimetype": "text/x-r-source",
   "name": "R",
   "pygments_lexer": "r",
   "version": "3.6.1"
  }
 },
 "nbformat": 4,
 "nbformat_minor": 2
}
